{
 "cells": [
  {
   "cell_type": "markdown",
   "metadata": {},
   "source": [
    "Я решил распарсить все отзывы на смартфоны с сайта DNS"
   ]
  },
  {
   "cell_type": "code",
   "execution_count": 1,
   "metadata": {},
   "outputs": [],
   "source": [
    "import requests\n",
    "import bs4\n",
    "import pickle\n"
   ]
  },
  {
   "cell_type": "code",
   "execution_count": 111,
   "metadata": {},
   "outputs": [
    {
     "name": "stdout",
     "output_type": "stream",
     "text": [
      "Overwriting dns_reviews.py\n"
     ]
    }
   ],
   "source": [
    "%%writefile dns_reviews.py\n",
    "import requests\n",
    "import bs4\n",
    "from multiprocessing import Pool\n",
    "import codecs\n",
    "from functools import reduce\n",
    "import pickle\n",
    "\n",
    "DNS_WEBPAGE = 'https://www.dns-shop.ru'\n",
    "\n",
    "def get_all_products(url):\n",
    "    print('>>> Parsing page '+url)\n",
    "    text = requests.get(url).text\n",
    "    parser = bs4.BeautifulSoup(text, 'lxml')\n",
    "    \n",
    "    product_links = parser.findAll('div', attrs='title')\n",
    "    return [DNS_WEBPAGE+product.a['href'] for product in product_links]\n",
    "\n",
    "PAGES_LIST = [DNS_WEBPAGE + '/catalog/17a8a01d16404e77/smartfony/?p={}'.format(num) for num in range(1,51)]\n",
    "\n",
    "def get_opinions(product_url):\n",
    "    print('\\t>>> Parsing product '+product_url)\n",
    "    text = requests.get(product_url+'opinion/').text\n",
    "    parser = bs4.BeautifulSoup(text, 'lxml')\n",
    "    \n",
    "    opinions = parser.findAll('div', attrs='opinion-item')\n",
    "    \n",
    "    opnions_w_raiting = []\n",
    "    for opinion_parser in opinions:\n",
    "#         print(opinion_parser.prettify())\n",
    "        rating = opinion_parser.find('div', attrs='product-item-rating rating')['data-rating']\n",
    "        descriptions = opinion_parser.findAll('span', attrs='description-text')\n",
    "        opinion_text = ' '.join([descr.text for descr in descriptions])\n",
    "        opnions_w_raiting.append((opinion_text, int(rating)))\n",
    "        \n",
    "    return opnions_w_raiting\n",
    "\n",
    "\n",
    "if __name__ == '__main__':\n",
    "    p = Pool(100)\n",
    "\n",
    "    map_products = p.map(get_all_products, PAGES_LIST)\n",
    "    reduce_products = reduce(lambda x,y: x + y, map_products)\n",
    "    \n",
    "    map_reviews = p.map(get_opinions, reduce_products)\n",
    "    reduce_reviews = reduce(lambda x,y: x + y, map_reviews)\n",
    "    \n",
    "    with open('all_dns.txt', 'wb') as output_file:\n",
    "        pickle.dump(reduce_reviews, output_file)"
   ]
  },
  {
   "cell_type": "code",
   "execution_count": 108,
   "metadata": {},
   "outputs": [
    {
     "name": "stdout",
     "output_type": "stream",
     "text": [
      ">>> Parsing page https://www.dns-shop.ru/catalog/17a8a01d16404e77/smartfony/?p=1\n"
     ]
    },
    {
     "data": {
      "text/plain": [
       "['https://www.dns-shop.ru/product/831d9dda31643330/4-smartfon-dexp-a140-8-gb-zolotistyj/',\n",
       " 'https://www.dns-shop.ru/product/2813dfb931643330/4-smartfon-dexp-a140-8-gb-cernyj/',\n",
       " 'https://www.dns-shop.ru/product/f2f4a71bff723332/4-smartfon-inoi-1-lite-4-gb-cernyj/',\n",
       " 'https://www.dns-shop.ru/product/3ad8e2b7b8633330/45-smartfon-finepower-s5-4-gb-cernyj/',\n",
       " 'https://www.dns-shop.ru/product/13a5e259fa663330/4-smartfon-finepower-c4-4-gb-cernyj/',\n",
       " 'https://www.dns-shop.ru/product/5988bc619a0c3330/4-smartfon-micromax-q301-4-gb-cernyj/',\n",
       " 'https://www.dns-shop.ru/product/63efa04201a93332/4-smartfon-micromax-q306-4-gb-cernyj/',\n",
       " 'https://www.dns-shop.ru/product/84aa5d94456b477b/5-smartfon-finepower-c1-4-gb-zolotistyj/',\n",
       " 'https://www.dns-shop.ru/product/5c99ef8f15e93330/5-smartfon-finepower-c1-4-gb-cernyj/',\n",
       " 'https://www.dns-shop.ru/product/c4dd3dc652523330/5-smartfon-finepower-d3-4-gb-zolotistyj/',\n",
       " 'https://www.dns-shop.ru/product/2f2e224c492b1b80/4-smartfon-bright--quick-bq-4001g-cool-8-cernyj/',\n",
       " 'https://www.dns-shop.ru/product/0d914068cd9f3330/55-smartfon-dexp-ixion-es355-ice-8-gb-zolotistyj/',\n",
       " 'https://www.dns-shop.ru/product/6ed8347b861f3330/45-smartfon-fly-fs458-stratus-7-8-gb-zolotistyj/',\n",
       " 'https://www.dns-shop.ru/product/52324f07861f3330/45-smartfon-fly-fs458-stratus-7-8-gb-cernyj/',\n",
       " 'https://www.dns-shop.ru/product/c34ef71df6913330/5-smartfon-ark-benefit-s504-4-gb-cernyj/',\n",
       " 'https://www.dns-shop.ru/product/139e70c53ebb3330/4-smartfon-dexp-al140-8-gb-sinij/',\n",
       " 'https://www.dns-shop.ru/product/05a808643ebc3330/4-smartfon-dexp-al140-8-gb-cernyj/',\n",
       " 'https://www.dns-shop.ru/product/a9dd44fa72943330/4-smartfon-bright--quick-bq-4028-up-8-gb-zolotistyj/',\n",
       " 'https://www.dns-shop.ru/product/a9dd44f972943330/4-smartfon-bright--quick-bq-4028-up-8-gb-krasnyj/',\n",
       " 'https://www.dns-shop.ru/product/a9dd44fd72943330/4-smartfon-bright--quick-bq-4028-up-8-gb-rozovyj/']"
      ]
     },
     "execution_count": 108,
     "metadata": {},
     "output_type": "execute_result"
    }
   ],
   "source": [
    "get_all_products(PAGES_LIST[0])"
   ]
  },
  {
   "cell_type": "code",
   "execution_count": 107,
   "metadata": {},
   "outputs": [
    {
     "name": "stdout",
     "output_type": "stream",
     "text": [
      "\t>>> Parsing product https://www.dns-shop.ru/product/831d9dda31643330/4-smartfon-dexp-a140-8-gb-zolotistyj/\n"
     ]
    },
    {
     "data": {
      "text/plain": [
       "[('Цена. Процессор для такой цены относительно шустрый. Экран. Углы обзора и разрешение. Нет 4G, слабая батарея, нет подсветки кнопок, нет фонарика. Мало внутренней памяти, а карты памяти у нас на работе запрещены. Этот смарт на андроиде на сегодняшний день - единственное предложение в магазинах электроники, где нет камеры, для заводов, где это требуют. Хотелось бы, чтобы DNS это учел и выпустил ещё ряд более дорогих моделей без камеры.',\n",
       "  5),\n",
       " ('Цена Сбрасывает вызов через минуту разговора Ниже я уже написал отзыв. Сейчас хочу дополнить. От данного аппарата требовалось выполнение самых простейших функций \"звонилки\", с которой он тоже не справляется. Больше минуты поговорить он не дает. Связь обрывает. Сброс ничего не дал. В настройках никаких лимитов ни на что не устанавливается. Не рекомендую.',\n",
       "  1),\n",
       " ('- Дешёвый - без камеры - собран без всяких люфтов, скрипов и тд. - андройд, пусть и обрезанный - очень слабый. - подглючивает даже на стандартных операциях - плохой и малоемкий аккумулятор. - экран в горизонтальном положении отвратительно передает изображение. - сильно греется при нагрузке Телефон неоднозначный. Андроид съедает больше половины оперативной памяти, поэтому не удивляйтесь, что вкладки будут частенько закрываться сами по себе. Видео онлайн при большом желании можно посмотреть,только с таким дисплеем просмотр будет сущим адом. Аккумулятор разряжается даже в режиме сна, за 12 часов две сим-карты в режиме регистрации в сети могут смело скушать около 30 % . Сам аккумулятор заряжается адски долго и с магазинской прошивкой из него удалось выжать лишь 350-400 мАч. При том, что нормальный смартфон на этой же зарядке выдает 1800. Так что можете смело оставлять его на 3-3.5 часа в надежде увидеть полностью заряженный телефон. Иногда ловит глюки при входящих звонках (продолжает висеть в режиме сна но при этом звонить). Но это ещё терпимо, если не ставить дико сложный графический ключ на разблокировку. В остальном это все же смартфон и перед обычными звонилками имеет все присущие ему преимущества. Пообщаться в социальных сетях, посмотреть картинки и посмотреть видео относительно среднего качества , поиграть в слабые игры, дабы убить свободное время - данный смартфон с этим справится. Только будьте готовы при этом жить у розетки. Брать стоит только по причине того, что нужен именно бескамерный смартфон на работу, так как аналогов в РФ нет. В ином случае лучше воздержаться от покупки данного девайса и обратить внимание либо на устройства дороже. Либо же на простые телефоны. Потому как в повседневной жизни удовольствия от использования A140 вы точно не получите)',\n",
       "  3),\n",
       " ('в общем все нормально.... или прошивка или сама батарея глюченные.....', 3),\n",
       " ('На удивление работает шустро, в отличии от других моделей по той же цене. Телефон только для звонков и для не требовательных мессенджеров WhatsApp, Viber, IMO и тд... Для Соц. Сетей слабоват, пользовался заменой ВК, Kate Mobile. Нет камеры, плохие углы обзора. По итогу сказать ничего плохого про телефон не могу, все прекрасно понимают, что от данного смартфона ждать чего то заоблачного не имеет смысла.',\n",
       "  3),\n",
       " ('Возможно есть. Невозможно включить То работает то не работает автоматический поворот экрана. Очень неудобно. Купил и не смог войти. Бесконечно требует аккаунт гугл. Распознает его, но требует повторно. Так что включить его невозможно.',\n",
       "  1),\n",
       " ('Цена, отсутствие всего что только можно придумать. нет чехлов-книжек ))) Купил жене ( ярому ненавистнику мобильных технологий) на замену кнопочного, умершего от полученных травм при падении на бетонный пол. Основными требованиями были громкость , качество звука во время разговора, возможность записи полного имени абонента в телефонной книге. С этими требованиями аппарат справляется отлично, а большего и не нужно.',\n",
       "  5),\n",
       " ('Отсутствие камеры; Слабый аккумулятор; Греется при включении приложений таких как :Youtube, Vk... , кроме читалок, word ...; будильник на своей волне; Брал для завода. Если использовать как телефон (смс, звонки), то аккумулятора хватит на день. В остальном случае лучше держать рядом зарядку. Сколько проживёт посмотрим.',\n",
       "  4),\n",
       " ('- Отсутствие камеры; - Шустрый; - Цена. - Хилый аккум (в режиме полета за день съел около 30%, при использовании в качестве звонилки хватает на два дня, при более активном использовании день); - Отсутсвие светодиода-индикатора; - Отсутствие подсветки нижних кнопок.',\n",
       "  4),\n",
       " ('Купили для офиса. Хороший, громкий, не тупит.  Не обратили внимание но нет камеры, но не страшно. глючит зарядка реокмендую',\n",
       "  4)]"
      ]
     },
     "execution_count": 107,
     "metadata": {},
     "output_type": "execute_result"
    }
   ],
   "source": [
    "get_opinions('https://www.dns-shop.ru/product/831d9dda31643330/4-smartfon-dexp-a140-8-gb-zolotistyj/')"
   ]
  },
  {
   "cell_type": "code",
   "execution_count": 2,
   "metadata": {},
   "outputs": [],
   "source": [
    "with open('all_dns.txt', 'rb') as f:\n",
    "    reviews = pickle.load(f)"
   ]
  },
  {
   "cell_type": "code",
   "execution_count": 4,
   "metadata": {},
   "outputs": [
    {
     "data": {
      "text/plain": [
       "2904"
      ]
     },
     "execution_count": 4,
     "metadata": {},
     "output_type": "execute_result"
    }
   ],
   "source": [
    "len(reviews)"
   ]
  },
  {
   "cell_type": "code",
   "execution_count": 5,
   "metadata": {},
   "outputs": [
    {
     "data": {
      "text/plain": [
       "('батарея ,громкий кривая реализация с кнопками взял сегодня в белом цвете матери, мои впечатления.Скользкий,экран откровенно тухлый,установил яндекс браузер,скайп лайт,вайбер памяти без карточки осталось 32 метра,при этом не тупит,устанавливал арком,родной магазин вгружается ,быстро все это в нем есть,очень громкий,слышимость хорошая, отключаемая кнопка сос,2 лончера,один с плитками другой стандарт,очень мелкие виджеты,камера без фокуса програмно разогнана до 5 текст сильно мылит,батарейка по весу тянет на 2.500 расходуется равномерно,нет автоповорота,хоть галку поставил,при звонках экран тухнет и загорается,на экране сразу пленка,в скайпе громкий,есть 2 клавиатуры одна для кнопок работает криво,для андроида работает с экрана нормально,симкарты стандартные обе,мое впечатление,обычный смартфон 3,5 плюс клавиатура и неплохая батарея,',\n",
       " 3)"
      ]
     },
     "execution_count": 5,
     "metadata": {},
     "output_type": "execute_result"
    }
   ],
   "source": [
    "reviews[0]"
   ]
  }
 ],
 "metadata": {
  "kernelspec": {
   "display_name": "Python 3",
   "language": "python",
   "name": "python3"
  },
  "language_info": {
   "codemirror_mode": {
    "name": "ipython",
    "version": 3
   },
   "file_extension": ".py",
   "mimetype": "text/x-python",
   "name": "python",
   "nbconvert_exporter": "python",
   "pygments_lexer": "ipython3",
   "version": "3.6.5"
  }
 },
 "nbformat": 4,
 "nbformat_minor": 2
}
