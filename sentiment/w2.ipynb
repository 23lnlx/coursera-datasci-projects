{
 "cells": [
  {
   "cell_type": "code",
   "execution_count": 2,
   "metadata": {},
   "outputs": [],
   "source": [
    "import numpy as np\n",
    "import pandas as pd\n",
    "import scipy as sp\n",
    "from tqdm import tqdm_notebook"
   ]
  },
  {
   "cell_type": "code",
   "execution_count": 21,
   "metadata": {},
   "outputs": [],
   "source": [
    "from sklearn.pipeline import Pipeline\n",
    "from sklearn.linear_model import LogisticRegression, SGDClassifier\n",
    "from sklearn.svm import LinearSVC\n",
    "from sklearn.feature_extraction.text import CountVectorizer, TfidfVectorizer\n",
    "from sklearn.model_selection import cross_val_score"
   ]
  },
  {
   "cell_type": "code",
   "execution_count": 28,
   "metadata": {},
   "outputs": [
    {
     "name": "stdout",
     "output_type": "stream",
     "text": [
      "[nltk_data] Downloading package movie_reviews to\n",
      "[nltk_data]     C:\\Users\\Aleksey.Ilin\\AppData\\Roaming\\nltk_data...\n",
      "[nltk_data]   Package movie_reviews is already up-to-date!\n",
      "[nltk_data] Downloading package punkt to\n",
      "[nltk_data]     C:\\Users\\Aleksey.Ilin\\AppData\\Roaming\\nltk_data...\n",
      "[nltk_data]   Package punkt is already up-to-date!\n",
      "[nltk_data] Downloading package stopwords to\n",
      "[nltk_data]     C:\\Users\\Aleksey.Ilin\\AppData\\Roaming\\nltk_data...\n",
      "[nltk_data]   Unzipping corpora\\stopwords.zip.\n"
     ]
    },
    {
     "data": {
      "text/plain": [
       "True"
      ]
     },
     "execution_count": 28,
     "metadata": {},
     "output_type": "execute_result"
    }
   ],
   "source": [
    "from nltk.corpus import movie_reviews\n",
    "import nltk\n",
    "nltk.download('movie_reviews')\n",
    "nltk.download('punkt')\n",
    "nltk.download('stopwords')"
   ]
  },
  {
   "cell_type": "code",
   "execution_count": 5,
   "metadata": {},
   "outputs": [],
   "source": [
    "negids = movie_reviews.fileids('neg')\n",
    "posids = movie_reviews.fileids('pos')"
   ]
  },
  {
   "cell_type": "code",
   "execution_count": 6,
   "metadata": {},
   "outputs": [],
   "source": [
    "negfeats = [movie_reviews.words(fileids=[f]) for f in negids]\n",
    "posfeats = [movie_reviews.words(fileids=[f]) for f in posids]"
   ]
  },
  {
   "cell_type": "code",
   "execution_count": 7,
   "metadata": {},
   "outputs": [],
   "source": [
    "all_classes = [1]*len(posfeats) + [0]*len(negfeats)\n",
    "all_reviews = posfeats + negfeats\n",
    "reviews_better = [' '.join(l) for l in all_reviews]"
   ]
  },
  {
   "cell_type": "markdown",
   "metadata": {},
   "source": [
    "# 1 q"
   ]
  },
  {
   "cell_type": "code",
   "execution_count": 8,
   "metadata": {},
   "outputs": [],
   "source": [
    "pipe_co = Pipeline([('vectorizer', CountVectorizer()), ('lr', LogisticRegression())])\n",
    "pipe_tf = Pipeline([('vectorizer', TfidfVectorizer()), ('lr', LogisticRegression())])"
   ]
  },
  {
   "cell_type": "code",
   "execution_count": 9,
   "metadata": {},
   "outputs": [
    {
     "name": "stdout",
     "output_type": "stream",
     "text": [
      "Wall time: 9.35 s\n"
     ]
    }
   ],
   "source": [
    "%%time\n",
    "acc_cv_co = cross_val_score(X=reviews_better, y=all_classes, estimator=pipe_co, n_jobs=-1, scoring='accuracy', cv=5)\n",
    "acc_cv_tf = cross_val_score(X=reviews_better, y=all_classes, estimator=pipe_tf, n_jobs=-1, scoring='accuracy', cv=5)"
   ]
  },
  {
   "cell_type": "code",
   "execution_count": 18,
   "metadata": {},
   "outputs": [],
   "source": [
    "with open('1ans.txt', 'w') as f:\n",
    "    f.write(' '.join(np.array([acc_cv_co.mean(), acc_cv_co.std(), acc_cv_tf.mean(), acc_cv_tf.std()]).astype(str)))"
   ]
  },
  {
   "cell_type": "markdown",
   "metadata": {},
   "source": [
    "# 2 q"
   ]
  },
  {
   "cell_type": "code",
   "execution_count": 19,
   "metadata": {},
   "outputs": [],
   "source": [
    "pipe_co_10 = Pipeline([('vectorizer', CountVectorizer(min_df=10)), ('lr', LogisticRegression())])\n",
    "acc_cv_co_10 = cross_val_score(X=reviews_better, y=all_classes, estimator=pipe_co_10, n_jobs=-1, scoring='accuracy', cv=5)\n",
    "\n",
    "pipe_co_50 = Pipeline([('vectorizer', CountVectorizer(min_df=50)), ('lr', LogisticRegression())])\n",
    "acc_cv_co_50 = cross_val_score(X=reviews_better, y=all_classes, estimator=pipe_co_50, n_jobs=-1, scoring='accuracy', cv=5)"
   ]
  },
  {
   "cell_type": "code",
   "execution_count": 20,
   "metadata": {},
   "outputs": [],
   "source": [
    "with open('2ans.txt', 'w') as f:\n",
    "    f.write(' '.join(np.array([acc_cv_co_10.mean(), acc_cv_co_50.mean()]).astype(str)))"
   ]
  },
  {
   "cell_type": "markdown",
   "metadata": {},
   "source": [
    "# 3 q"
   ]
  },
  {
   "cell_type": "code",
   "execution_count": 22,
   "metadata": {},
   "outputs": [],
   "source": [
    "pipe_sgd = Pipeline([('vectorizer', CountVectorizer()), ('est', SGDClassifier(random_state=42))])\n",
    "acc_cv_sgd = cross_val_score(X=reviews_better, y=all_classes, estimator=pipe_sgd, n_jobs=-1, scoring='accuracy', cv=5)\n",
    "\n",
    "pipe_svm = Pipeline([('vectorizer', CountVectorizer(min_df=50)), ('est', LinearSVC())])\n",
    "acc_cv_svm = cross_val_score(X=reviews_better, y=all_classes, estimator=pipe_svm, n_jobs=-1, scoring='accuracy', cv=5)"
   ]
  },
  {
   "cell_type": "code",
   "execution_count": 25,
   "metadata": {},
   "outputs": [],
   "source": [
    "with open('3ans.txt', 'w') as f:\n",
    "    f.write(str(min([acc_cv_sgd.mean(), acc_cv_svm.mean(), acc_cv_co.mean()])))"
   ]
  },
  {
   "cell_type": "code",
   "execution_count": 26,
   "metadata": {},
   "outputs": [
    {
     "name": "stdout",
     "output_type": "stream",
     "text": [
      "[0.756, 0.796, 0.841]\n"
     ]
    }
   ],
   "source": [
    "print([acc_cv_sgd.mean(), acc_cv_svm.mean(), acc_cv_co.mean()])"
   ]
  },
  {
   "cell_type": "markdown",
   "metadata": {},
   "source": [
    "# 4 q"
   ]
  },
  {
   "cell_type": "code",
   "execution_count": 30,
   "metadata": {},
   "outputs": [],
   "source": [
    "stop_nltk = nltk.corpus.stopwords.words('english')"
   ]
  },
  {
   "cell_type": "code",
   "execution_count": 35,
   "metadata": {},
   "outputs": [],
   "source": [
    "pipe_co_nltk = Pipeline([('vectorizer', CountVectorizer(stop_words=stop_nltk)), ('lr', LogisticRegression())])\n",
    "acc_cv_co_nltk = cross_val_score(X=reviews_better, y=all_classes, estimator=pipe_co_nltk, n_jobs=-1, \n",
    "                                 scoring='accuracy', cv=5)\n",
    "\n",
    "pipe_co_built = Pipeline([('vectorizer', CountVectorizer(stop_words='english')), ('lr', LogisticRegression())])\n",
    "acc_cv_co_built = cross_val_score(X=reviews_better, y=all_classes, estimator=pipe_co_built, n_jobs=-1, \n",
    "                                 scoring='accuracy', cv=5)"
   ]
  },
  {
   "cell_type": "code",
   "execution_count": 32,
   "metadata": {},
   "outputs": [],
   "source": [
    "with open('4ans.txt', 'w') as f:\n",
    "    f.write(' '.join(np.array([acc_cv_co_nltk.mean(), acc_cv_co_built.mean()]).astype(str)))"
   ]
  },
  {
   "cell_type": "markdown",
   "metadata": {},
   "source": [
    "# 5 q"
   ]
  },
  {
   "cell_type": "code",
   "execution_count": 40,
   "metadata": {},
   "outputs": [],
   "source": [
    "pipe_co_2gr = Pipeline([('vectorizer', CountVectorizer(ngram_range=(1,2))), ('lr', LogisticRegression())])\n",
    "acc_cv_co_2gr = cross_val_score(X=reviews_better, y=all_classes, estimator=pipe_co_2gr, n_jobs=-1, \n",
    "                                 scoring='accuracy', cv=5)\n",
    "\n",
    "pipe_co_35gr = Pipeline([('vectorizer', CountVectorizer(ngram_range=(3,5), analyzer='char_wb')), ('lr', LogisticRegression())])\n",
    "acc_cv_co_35gr = cross_val_score(X=reviews_better, y=all_classes, estimator=pipe_co_35gr, n_jobs=-1, \n",
    "                                 scoring='accuracy', cv=5)"
   ]
  },
  {
   "cell_type": "code",
   "execution_count": 42,
   "metadata": {},
   "outputs": [],
   "source": [
    "with open('5ans.txt', 'w') as f:\n",
    "    f.write(' '.join(np.array([acc_cv_co_2gr.mean(), acc_cv_co_35gr.mean()]).astype(str)))"
   ]
  },
  {
   "cell_type": "code",
   "execution_count": null,
   "metadata": {},
   "outputs": [],
   "source": []
  }
 ],
 "metadata": {
  "kernelspec": {
   "display_name": "Python 3",
   "language": "python",
   "name": "python3"
  },
  "language_info": {
   "codemirror_mode": {
    "name": "ipython",
    "version": 3
   },
   "file_extension": ".py",
   "mimetype": "text/x-python",
   "name": "python",
   "nbconvert_exporter": "python",
   "pygments_lexer": "ipython3",
   "version": "3.6.4"
  }
 },
 "nbformat": 4,
 "nbformat_minor": 2
}
